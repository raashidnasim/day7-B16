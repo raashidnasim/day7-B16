{
 "cells": [
  {
   "cell_type": "code",
   "execution_count": 1,
   "metadata": {},
   "outputs": [
    {
     "name": "stdout",
     "output_type": "stream",
     "text": [
      "['bmw', 'audi', 'benz', 'toyota', 'maruthi']\n"
     ]
    }
   ],
   "source": [
    "car = ['bmw','audi','benz','toyota','maruthi']\n",
    "print(car)"
   ]
  },
  {
   "cell_type": "code",
   "execution_count": 2,
   "metadata": {},
   "outputs": [
    {
     "name": "stdout",
     "output_type": "stream",
     "text": [
      "BMW\n",
      "Audi\n",
      "Benz\n",
      "Toyota\n",
      "Maruthi\n"
     ]
    }
   ],
   "source": [
    "# if statement \n",
    "\n",
    "for c in car:\n",
    "    if c == 'bmw':\n",
    "        print(c.upper())\n",
    "    else:\n",
    "        print(c.title())"
   ]
  },
  {
   "cell_type": "code",
   "execution_count": 4,
   "metadata": {},
   "outputs": [
    {
     "name": "stdout",
     "output_type": "stream",
     "text": [
      "please enter your name:raashid\n",
      "\n",
      " Hello good to see you again raashid\n"
     ]
    }
   ],
   "source": [
    "name = input(\"please enter your name:\")\n",
    "print(f\"\\n Hello good to see you again {name}\")"
   ]
  },
  {
   "cell_type": "code",
   "execution_count": 5,
   "metadata": {},
   "outputs": [
    {
     "name": "stdout",
     "output_type": "stream",
     "text": [
      "enter your height:7\n",
      "7\n"
     ]
    }
   ],
   "source": [
    "height = input(\"enter your height:\")\n",
    "print(height)\n"
   ]
  },
  {
   "cell_type": "code",
   "execution_count": 7,
   "metadata": {},
   "outputs": [
    {
     "name": "stdout",
     "output_type": "stream",
     "text": [
      "enter your height:7\n"
     ]
    },
    {
     "data": {
      "text/plain": [
       "False"
      ]
     },
     "execution_count": 7,
     "metadata": {},
     "output_type": "execute_result"
    }
   ],
   "source": [
    "height = input(\"enter your height:\")\n",
    "height = int(height)\n",
    "height>=8"
   ]
  },
  {
   "cell_type": "code",
   "execution_count": 9,
   "metadata": {},
   "outputs": [
    {
     "name": "stdout",
     "output_type": "stream",
     "text": [
      "How old are you:17\n",
      "\n",
      " your age is 17 it should be above,or 18\n"
     ]
    }
   ],
   "source": [
    "age = input('How old are you:')\n",
    "age = int(age)\n",
    "if age >= 18:\n",
    "    print('\\n your are allowed to vote')\n",
    "else:\n",
    "    print(f'\\n your age is {age} it should be above,or 18')"
   ]
  },
  {
   "cell_type": "code",
   "execution_count": null,
   "metadata": {},
   "outputs": [],
   "source": []
  }
 ],
 "metadata": {
  "kernelspec": {
   "display_name": "Python 3",
   "language": "python",
   "name": "python3"
  },
  "language_info": {
   "codemirror_mode": {
    "name": "ipython",
    "version": 3
   },
   "file_extension": ".py",
   "mimetype": "text/x-python",
   "name": "python",
   "nbconvert_exporter": "python",
   "pygments_lexer": "ipython3",
   "version": "3.7.6"
  }
 },
 "nbformat": 4,
 "nbformat_minor": 4
}
